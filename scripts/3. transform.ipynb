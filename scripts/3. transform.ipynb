{
 "cells": [
  {
   "cell_type": "code",
   "execution_count": null,
   "id": "80de9045",
   "metadata": {},
   "outputs": [],
   "source": [
    "'''\n",
    "We will be transforming the data (applying business logic) in MongoDB using Python\n",
    "\n",
    "'''\n",
    "\n",
    "# importing required packages\n",
    "\n",
    "from textblob import TextBlob\n",
    "from pymongo import MongoClient\n",
    "from settings import CHANNEL_ID, MAX_RESULTS, DB_NAME, VIDEO_COLLECTION, COMMENT_COLLECTION\n",
    "import configparser"
   ]
  },
  {
   "cell_type": "code",
   "execution_count": 3,
   "id": "0d5c8a1f",
   "metadata": {},
   "outputs": [
    {
     "data": {
      "text/plain": [
       "['credentials.ini']"
      ]
     },
     "execution_count": 3,
     "metadata": {},
     "output_type": "execute_result"
    }
   ],
   "source": [
    "# configuring credentials\n",
    "\n",
    "'''\n",
    "If the file is not found, config.read will not throw an error but will return an empty list and the sections will be empty\n",
    "\n",
    "'''\n",
    "config = configparser.ConfigParser()\n",
    "config.read('credentials.ini')"
   ]
  },
  {
   "cell_type": "code",
   "execution_count": 4,
   "id": "6128c6fe",
   "metadata": {},
   "outputs": [],
   "source": [
    "# creating a function that transforms the data by applying business logic\n",
    "\n",
    "def add_sentiment():\n",
    "    client = MongoClient(config['MONGODB']['uri'])\n",
    "    db = client[DB_NAME]\n",
    "    comments = db[COMMENT_COLLECTION]\n",
    "    \n",
    "    for comment in comments.find({\"sentiment\": {\"$exists\": False}}):\n",
    "        text = comment['snippet']['topLevelComment']['snippet']['textDisplay']\n",
    "        analysis = TextBlob(text)\n",
    "        comments.update_one(\n",
    "            {'_id': comment['_id']},\n",
    "            {'$set': {'sentiment': analysis.sentiment.polarity}}\n",
    "        )"
   ]
  }
 ],
 "metadata": {
  "kernelspec": {
   "display_name": ".venv",
   "language": "python",
   "name": "python3"
  },
  "language_info": {
   "codemirror_mode": {
    "name": "ipython",
    "version": 3
   },
   "file_extension": ".py",
   "mimetype": "text/x-python",
   "name": "python",
   "nbconvert_exporter": "python",
   "pygments_lexer": "ipython3",
   "version": "3.12.0"
  }
 },
 "nbformat": 4,
 "nbformat_minor": 5
}

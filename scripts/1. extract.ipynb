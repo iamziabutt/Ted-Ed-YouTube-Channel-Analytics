{
 "cells": [
  {
   "cell_type": "code",
   "execution_count": null,
   "id": "88f8db94",
   "metadata": {},
   "outputs": [],
   "source": [
    "# importing required libraries\n",
    "\n",
    "import requests\n",
    "import configparser\n",
    "from pymongo import MongoClient\n",
    "from settings import CHANNEL_ID, DB_NAME, VIDEO_COLLECTION # importing details from settings.py"
   ]
  },
  {
   "cell_type": "code",
   "execution_count": null,
   "id": "b5396c45",
   "metadata": {},
   "outputs": [],
   "source": [
    "#  Configuration settings\n",
    "\n",
    "config = configparser.ConfigParser()\n",
    "config.read('credentials.ini')\n",
    "\n",
    "# mongodb setupp\n",
    "\n",
    "client = MongoClient(config['MONGODB']['uri'])\n",
    "db = client[DB_NAME]\n",
    "collection = db[VIDEO_COLLECTION]\n",
    "\n",
    "URL = config['YOUTUBE']['url']"
   ]
  },
  {
   "cell_type": "code",
   "execution_count": null,
   "id": "2fe5b4f1",
   "metadata": {},
   "outputs": [],
   "source": [
    "# Making API request\n",
    "\n",
    "# API parmeters\n",
    "\n",
    "params = {\n",
    "    'key': config['YOUTUBE']['api_key'],\n",
    "    'channelId': CHANNEL_ID,\n",
    "    'part': 'snippet,id', # this will fetch video IDs\n",
    "    'order': 'date',\n",
    "    'maxResults': 50,  # Max allowed by Youtbe API\n",
    "    'type': 'video',\n",
    "    'publishedAfter': '2020-01-01T00:00:00Z'  # Adding date filter to narrow results\n",
    "}\n",
    "\n",
    "response = requests.get(URL, params=params) # making the first API request\n",
    "data = response.json() # converting API response into a jason file"
   ]
  },
  {
   "cell_type": "code",
   "execution_count": null,
   "id": "9d0bf4c2",
   "metadata": {},
   "outputs": [
    {
     "name": "stdout",
     "output_type": "stream",
     "text": [
      "API returned 50 videos\n",
      "Quota status: None\n"
     ]
    }
   ],
   "source": [
    "# Verify response\n",
    "\n",
    "print(f\"API returned {len(data['items'])} videos\")\n",
    "print(f\"Quota status: {response.headers.get('x-ratelimit-remaining')}\")\n",
    "\n",
    "if 'items' in data:\n",
    "    collection.insert_many(data['items'])"
   ]
  },
  {
   "cell_type": "code",
   "execution_count": null,
   "id": "34ea310f",
   "metadata": {},
   "outputs": [
    {
     "data": {
      "text/plain": [
       "448"
      ]
     },
     "execution_count": 23,
     "metadata": {},
     "output_type": "execute_result"
    }
   ],
   "source": [
    "# checking number of documents in mongodb collection\n",
    "\n",
    "collection.count_documents({})"
   ]
  },
  {
   "cell_type": "code",
   "execution_count": null,
   "id": "8be0f844",
   "metadata": {},
   "outputs": [],
   "source": [
    "# After initial request. Using next page token to get more videos from other pages\n",
    "\n",
    "'''\n",
    "This handles the pagination issue\n",
    "\n",
    "'''\n",
    "\n",
    "while 'nextPageToken' in data:\n",
    "    params['pageToken'] = data['nextPageToken']\n",
    "    response = requests.get(\"https://www.googleapis.com/youtube/v3/search\", params=params)\n",
    "    data = response.json()\n",
    "    collection.insert_many(data['items']) # inserting into Mongodb"
   ]
  },
  {
   "cell_type": "code",
   "execution_count": 25,
   "id": "18ac732c",
   "metadata": {},
   "outputs": [
    {
     "name": "stdout",
     "output_type": "stream",
     "text": [
      "Total inserted: 6 videos\n"
     ]
    }
   ],
   "source": [
    "print(f\"Total inserted: {len(data)} videos\")"
   ]
  },
  {
   "cell_type": "code",
   "execution_count": null,
   "id": "f9560355",
   "metadata": {},
   "outputs": [
    {
     "data": {
      "text/plain": [
       "742"
      ]
     },
     "execution_count": 26,
     "metadata": {},
     "output_type": "execute_result"
    }
   ],
   "source": [
    "# checking total number of documents in mongodb collection\n",
    "\n",
    "collection.count_documents({})"
   ]
  }
 ],
 "metadata": {
  "kernelspec": {
   "display_name": ".venv",
   "language": "python",
   "name": "python3"
  },
  "language_info": {
   "codemirror_mode": {
    "name": "ipython",
    "version": 3
   },
   "file_extension": ".py",
   "mimetype": "text/x-python",
   "name": "python",
   "nbconvert_exporter": "python",
   "pygments_lexer": "ipython3",
   "version": "3.12.0"
  }
 },
 "nbformat": 4,
 "nbformat_minor": 5
}
